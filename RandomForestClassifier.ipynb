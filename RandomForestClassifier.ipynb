{
 "cells": [
  {
   "cell_type": "code",
   "execution_count": null,
   "id": "202d732c-2107-4763-9723-f2ce8461f473",
   "metadata": {},
   "outputs": [],
   "source": [
    "## The random forest uses many trees, and it makes a prediction by averaging the predictions of each component tree.\n",
    "It generally has much better predictive accuracy than a single decision tree and it works well with default parameters.\n",
    "It mode performance, \n",
    "but many of those are sensitive to getting the right parameters"
   ]
  }
 ],
 "metadata": {
  "kernelspec": {
   "display_name": "Python 3 (ipykernel)",
   "language": "python",
   "name": "python3"
  },
  "language_info": {
   "codemirror_mode": {
    "name": "ipython",
    "version": 3
   },
   "file_extension": ".py",
   "mimetype": "text/x-python",
   "name": "python",
   "nbconvert_exporter": "python",
   "pygments_lexer": "ipython3",
   "version": "3.11.7"
  }
 },
 "nbformat": 4,
 "nbformat_minor": 5
}
